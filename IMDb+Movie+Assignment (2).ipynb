{
 "cells": [
  {
   "cell_type": "code",
   "execution_count": 2,
   "metadata": {},
   "outputs": [],
   "source": [
    "## Filtering out the warnings\n",
    "\n",
    "import warnings\n",
    "\n",
    "warnings.filterwarnings('ignore')"
   ]
  },
  {
   "cell_type": "code",
   "execution_count": 3,
   "metadata": {},
   "outputs": [],
   "source": [
    "# Importing the required libraries\n",
    "\n",
    "import numpy as np\n",
    "import pandas as pd\n",
    "import seaborn as sns\n",
    "import matplotlib.pyplot as plt\n"
   ]
  },
  {
   "cell_type": "markdown",
   "metadata": {},
   "source": [
    "# <font color = blue> IMDb Movie Assignment </font>\n",
    "\n",
    "You have the data for the 100 top-rated movies from the past decade along with various pieces of information about the movie, its actors, and the voters who have rated these movies online. In this assignment, you will try to find some interesting insights into these movies and their voters, using Python."
   ]
  },
  {
   "cell_type": "markdown",
   "metadata": {},
   "source": [
    "##  Task 1: Reading the data"
   ]
  },
  {
   "cell_type": "markdown",
   "metadata": {},
   "source": [
    "- ### Subtask 1.1: Read the Movies Data.\n",
    "\n",
    "Read the movies data file provided and store it in a dataframe `movies`."
   ]
  },
  {
   "cell_type": "code",
   "execution_count": 4,
   "metadata": {},
   "outputs": [
    {
     "data": {
      "text/html": [
       "<div>\n",
       "<style scoped>\n",
       "    .dataframe tbody tr th:only-of-type {\n",
       "        vertical-align: middle;\n",
       "    }\n",
       "\n",
       "    .dataframe tbody tr th {\n",
       "        vertical-align: top;\n",
       "    }\n",
       "\n",
       "    .dataframe thead th {\n",
       "        text-align: right;\n",
       "    }\n",
       "</style>\n",
       "<table border=\"1\" class=\"dataframe\">\n",
       "  <thead>\n",
       "    <tr style=\"text-align: right;\">\n",
       "      <th></th>\n",
       "      <th>Title</th>\n",
       "      <th>title_year</th>\n",
       "      <th>budget</th>\n",
       "      <th>Gross</th>\n",
       "      <th>actor_1_name</th>\n",
       "      <th>actor_2_name</th>\n",
       "      <th>actor_3_name</th>\n",
       "      <th>actor_1_facebook_likes</th>\n",
       "      <th>actor_2_facebook_likes</th>\n",
       "      <th>actor_3_facebook_likes</th>\n",
       "      <th>...</th>\n",
       "      <th>Votes3044M</th>\n",
       "      <th>Votes3044F</th>\n",
       "      <th>Votes45A</th>\n",
       "      <th>Votes45AM</th>\n",
       "      <th>Votes45AF</th>\n",
       "      <th>Votes1000</th>\n",
       "      <th>VotesUS</th>\n",
       "      <th>VotesnUS</th>\n",
       "      <th>content_rating</th>\n",
       "      <th>Country</th>\n",
       "    </tr>\n",
       "  </thead>\n",
       "  <tbody>\n",
       "    <tr>\n",
       "      <th>0</th>\n",
       "      <td>La La Land</td>\n",
       "      <td>2016</td>\n",
       "      <td>30000000</td>\n",
       "      <td>151101803</td>\n",
       "      <td>Ryan Gosling</td>\n",
       "      <td>Emma Stone</td>\n",
       "      <td>Amiée Conn</td>\n",
       "      <td>14000</td>\n",
       "      <td>19000.0</td>\n",
       "      <td>NaN</td>\n",
       "      <td>...</td>\n",
       "      <td>7.9</td>\n",
       "      <td>7.8</td>\n",
       "      <td>7.6</td>\n",
       "      <td>7.6</td>\n",
       "      <td>7.5</td>\n",
       "      <td>7.1</td>\n",
       "      <td>8.3</td>\n",
       "      <td>8.1</td>\n",
       "      <td>PG-13</td>\n",
       "      <td>USA</td>\n",
       "    </tr>\n",
       "    <tr>\n",
       "      <th>1</th>\n",
       "      <td>Zootopia</td>\n",
       "      <td>2016</td>\n",
       "      <td>150000000</td>\n",
       "      <td>341268248</td>\n",
       "      <td>Ginnifer Goodwin</td>\n",
       "      <td>Jason Bateman</td>\n",
       "      <td>Idris Elba</td>\n",
       "      <td>2800</td>\n",
       "      <td>28000.0</td>\n",
       "      <td>27000.0</td>\n",
       "      <td>...</td>\n",
       "      <td>7.8</td>\n",
       "      <td>8.1</td>\n",
       "      <td>7.8</td>\n",
       "      <td>7.8</td>\n",
       "      <td>8.1</td>\n",
       "      <td>7.6</td>\n",
       "      <td>8.0</td>\n",
       "      <td>8.0</td>\n",
       "      <td>PG</td>\n",
       "      <td>USA</td>\n",
       "    </tr>\n",
       "    <tr>\n",
       "      <th>2</th>\n",
       "      <td>Lion</td>\n",
       "      <td>2016</td>\n",
       "      <td>12000000</td>\n",
       "      <td>51738905</td>\n",
       "      <td>Dev Patel</td>\n",
       "      <td>Nicole Kidman</td>\n",
       "      <td>Rooney Mara</td>\n",
       "      <td>33000</td>\n",
       "      <td>96000.0</td>\n",
       "      <td>9800.0</td>\n",
       "      <td>...</td>\n",
       "      <td>7.9</td>\n",
       "      <td>8.2</td>\n",
       "      <td>8.0</td>\n",
       "      <td>7.9</td>\n",
       "      <td>8.4</td>\n",
       "      <td>7.1</td>\n",
       "      <td>8.1</td>\n",
       "      <td>8.0</td>\n",
       "      <td>PG-13</td>\n",
       "      <td>Australia</td>\n",
       "    </tr>\n",
       "    <tr>\n",
       "      <th>3</th>\n",
       "      <td>Arrival</td>\n",
       "      <td>2016</td>\n",
       "      <td>47000000</td>\n",
       "      <td>100546139</td>\n",
       "      <td>Amy Adams</td>\n",
       "      <td>Jeremy Renner</td>\n",
       "      <td>Forest Whitaker</td>\n",
       "      <td>35000</td>\n",
       "      <td>5300.0</td>\n",
       "      <td>NaN</td>\n",
       "      <td>...</td>\n",
       "      <td>7.8</td>\n",
       "      <td>7.8</td>\n",
       "      <td>7.6</td>\n",
       "      <td>7.6</td>\n",
       "      <td>7.7</td>\n",
       "      <td>7.3</td>\n",
       "      <td>8.0</td>\n",
       "      <td>7.9</td>\n",
       "      <td>PG-13</td>\n",
       "      <td>USA</td>\n",
       "    </tr>\n",
       "    <tr>\n",
       "      <th>4</th>\n",
       "      <td>Manchester by the Sea</td>\n",
       "      <td>2016</td>\n",
       "      <td>9000000</td>\n",
       "      <td>47695371</td>\n",
       "      <td>Casey Affleck</td>\n",
       "      <td>Michelle Williams</td>\n",
       "      <td>Kyle Chandler</td>\n",
       "      <td>518</td>\n",
       "      <td>71000.0</td>\n",
       "      <td>3300.0</td>\n",
       "      <td>...</td>\n",
       "      <td>7.7</td>\n",
       "      <td>7.7</td>\n",
       "      <td>7.6</td>\n",
       "      <td>7.6</td>\n",
       "      <td>7.6</td>\n",
       "      <td>7.1</td>\n",
       "      <td>7.9</td>\n",
       "      <td>7.8</td>\n",
       "      <td>R</td>\n",
       "      <td>USA</td>\n",
       "    </tr>\n",
       "  </tbody>\n",
       "</table>\n",
       "<p>5 rows × 62 columns</p>\n",
       "</div>"
      ],
      "text/plain": [
       "                   Title  title_year     budget      Gross      actor_1_name  \\\n",
       "0             La La Land        2016   30000000  151101803      Ryan Gosling   \n",
       "1               Zootopia        2016  150000000  341268248  Ginnifer Goodwin   \n",
       "2                   Lion        2016   12000000   51738905         Dev Patel   \n",
       "3                Arrival        2016   47000000  100546139         Amy Adams   \n",
       "4  Manchester by the Sea        2016    9000000   47695371     Casey Affleck   \n",
       "\n",
       "         actor_2_name     actor_3_name  actor_1_facebook_likes  \\\n",
       "0          Emma Stone       Amiée Conn                   14000   \n",
       "1       Jason Bateman       Idris Elba                    2800   \n",
       "2       Nicole Kidman      Rooney Mara                   33000   \n",
       "3       Jeremy Renner  Forest Whitaker                   35000   \n",
       "4  Michelle Williams     Kyle Chandler                     518   \n",
       "\n",
       "   actor_2_facebook_likes  actor_3_facebook_likes  ...  Votes3044M Votes3044F  \\\n",
       "0                 19000.0                     NaN  ...         7.9        7.8   \n",
       "1                 28000.0                 27000.0  ...         7.8        8.1   \n",
       "2                 96000.0                  9800.0  ...         7.9        8.2   \n",
       "3                  5300.0                     NaN  ...         7.8        7.8   \n",
       "4                 71000.0                  3300.0  ...         7.7        7.7   \n",
       "\n",
       "  Votes45A Votes45AM  Votes45AF  Votes1000  VotesUS  VotesnUS  content_rating  \\\n",
       "0      7.6       7.6        7.5        7.1      8.3       8.1           PG-13   \n",
       "1      7.8       7.8        8.1        7.6      8.0       8.0              PG   \n",
       "2      8.0       7.9        8.4        7.1      8.1       8.0           PG-13   \n",
       "3      7.6       7.6        7.7        7.3      8.0       7.9           PG-13   \n",
       "4      7.6       7.6        7.6        7.1      7.9       7.8               R   \n",
       "\n",
       "     Country  \n",
       "0        USA  \n",
       "1        USA  \n",
       "2  Australia  \n",
       "3        USA  \n",
       "4        USA  \n",
       "\n",
       "[5 rows x 62 columns]"
      ]
     },
     "execution_count": 4,
     "metadata": {},
     "output_type": "execute_result"
    }
   ],
   "source": [
    "# Read the csv file using 'read_csv'. Please write your dataset location here.\n",
    "movies=pd.read_csv('Movie+Assignment+Data.csv')\n",
    "movies.head()"
   ]
  },
  {
   "cell_type": "markdown",
   "metadata": {},
   "source": [
    "- ###  Subtask 1.2: Inspect the Dataframe\n",
    "\n",
    "Inspect the dataframe for dimensions, null-values, and summary of different numeric columns."
   ]
  },
  {
   "cell_type": "code",
   "execution_count": 5,
   "metadata": {},
   "outputs": [
    {
     "data": {
      "text/plain": [
       "(100, 62)"
      ]
     },
     "execution_count": 5,
     "metadata": {},
     "output_type": "execute_result"
    }
   ],
   "source": [
    "# Check the number of rows and columns in the dataframe\n",
    "movies.shape"
   ]
  },
  {
   "cell_type": "code",
   "execution_count": 6,
   "metadata": {},
   "outputs": [
    {
     "name": "stdout",
     "output_type": "stream",
     "text": [
      "<class 'pandas.core.frame.DataFrame'>\n",
      "RangeIndex: 100 entries, 0 to 99\n",
      "Data columns (total 62 columns):\n",
      " #   Column                  Non-Null Count  Dtype  \n",
      "---  ------                  --------------  -----  \n",
      " 0   Title                   100 non-null    object \n",
      " 1   title_year              100 non-null    int64  \n",
      " 2   budget                  100 non-null    int64  \n",
      " 3   Gross                   100 non-null    int64  \n",
      " 4   actor_1_name            100 non-null    object \n",
      " 5   actor_2_name            100 non-null    object \n",
      " 6   actor_3_name            100 non-null    object \n",
      " 7   actor_1_facebook_likes  100 non-null    int64  \n",
      " 8   actor_2_facebook_likes  99 non-null     float64\n",
      " 9   actor_3_facebook_likes  98 non-null     float64\n",
      " 10  IMDb_rating             100 non-null    float64\n",
      " 11  genre_1                 100 non-null    object \n",
      " 12  genre_2                 97 non-null     object \n",
      " 13  genre_3                 74 non-null     object \n",
      " 14  MetaCritic              95 non-null     float64\n",
      " 15  Runtime                 100 non-null    int64  \n",
      " 16  CVotes10                100 non-null    int64  \n",
      " 17  CVotes09                100 non-null    int64  \n",
      " 18  CVotes08                100 non-null    int64  \n",
      " 19  CVotes07                100 non-null    int64  \n",
      " 20  CVotes06                100 non-null    int64  \n",
      " 21  CVotes05                100 non-null    int64  \n",
      " 22  CVotes04                100 non-null    int64  \n",
      " 23  CVotes03                100 non-null    int64  \n",
      " 24  CVotes02                100 non-null    int64  \n",
      " 25  CVotes01                100 non-null    int64  \n",
      " 26  CVotesMale              100 non-null    int64  \n",
      " 27  CVotesFemale            100 non-null    int64  \n",
      " 28  CVotesU18               100 non-null    int64  \n",
      " 29  CVotesU18M              100 non-null    int64  \n",
      " 30  CVotesU18F              100 non-null    int64  \n",
      " 31  CVotes1829              100 non-null    int64  \n",
      " 32  CVotes1829M             100 non-null    int64  \n",
      " 33  CVotes1829F             100 non-null    int64  \n",
      " 34  CVotes3044              100 non-null    int64  \n",
      " 35  CVotes3044M             100 non-null    int64  \n",
      " 36  CVotes3044F             100 non-null    int64  \n",
      " 37  CVotes45A               100 non-null    int64  \n",
      " 38  CVotes45AM              100 non-null    int64  \n",
      " 39  CVotes45AF              100 non-null    int64  \n",
      " 40  CVotes1000              100 non-null    int64  \n",
      " 41  CVotesUS                100 non-null    int64  \n",
      " 42  CVotesnUS               100 non-null    int64  \n",
      " 43  VotesM                  100 non-null    float64\n",
      " 44  VotesF                  100 non-null    float64\n",
      " 45  VotesU18                100 non-null    float64\n",
      " 46  VotesU18M               100 non-null    float64\n",
      " 47  VotesU18F               100 non-null    float64\n",
      " 48  Votes1829               100 non-null    float64\n",
      " 49  Votes1829M              100 non-null    float64\n",
      " 50  Votes1829F              100 non-null    float64\n",
      " 51  Votes3044               100 non-null    float64\n",
      " 52  Votes3044M              100 non-null    float64\n",
      " 53  Votes3044F              100 non-null    float64\n",
      " 54  Votes45A                100 non-null    float64\n",
      " 55  Votes45AM               100 non-null    float64\n",
      " 56  Votes45AF               100 non-null    float64\n",
      " 57  Votes1000               100 non-null    float64\n",
      " 58  VotesUS                 100 non-null    float64\n",
      " 59  VotesnUS                100 non-null    float64\n",
      " 60  content_rating          100 non-null    object \n",
      " 61  Country                 100 non-null    object \n",
      "dtypes: float64(21), int64(32), object(9)\n",
      "memory usage: 48.6+ KB\n"
     ]
    }
   ],
   "source": [
    "# Check the column-wise info of the dataframe\n",
    "movies.info()"
   ]
  },
  {
   "cell_type": "code",
   "execution_count": 7,
   "metadata": {},
   "outputs": [
    {
     "data": {
      "text/html": [
       "<div>\n",
       "<style scoped>\n",
       "    .dataframe tbody tr th:only-of-type {\n",
       "        vertical-align: middle;\n",
       "    }\n",
       "\n",
       "    .dataframe tbody tr th {\n",
       "        vertical-align: top;\n",
       "    }\n",
       "\n",
       "    .dataframe thead th {\n",
       "        text-align: right;\n",
       "    }\n",
       "</style>\n",
       "<table border=\"1\" class=\"dataframe\">\n",
       "  <thead>\n",
       "    <tr style=\"text-align: right;\">\n",
       "      <th></th>\n",
       "      <th>title_year</th>\n",
       "      <th>budget</th>\n",
       "      <th>Gross</th>\n",
       "      <th>actor_1_facebook_likes</th>\n",
       "      <th>Runtime</th>\n",
       "      <th>CVotes10</th>\n",
       "      <th>CVotes09</th>\n",
       "      <th>CVotes08</th>\n",
       "      <th>CVotes07</th>\n",
       "      <th>CVotes06</th>\n",
       "      <th>...</th>\n",
       "      <th>CVotes1829F</th>\n",
       "      <th>CVotes3044</th>\n",
       "      <th>CVotes3044M</th>\n",
       "      <th>CVotes3044F</th>\n",
       "      <th>CVotes45A</th>\n",
       "      <th>CVotes45AM</th>\n",
       "      <th>CVotes45AF</th>\n",
       "      <th>CVotes1000</th>\n",
       "      <th>CVotesUS</th>\n",
       "      <th>CVotesnUS</th>\n",
       "    </tr>\n",
       "  </thead>\n",
       "  <tbody>\n",
       "    <tr>\n",
       "      <th>count</th>\n",
       "      <td>100.000000</td>\n",
       "      <td>1.000000e+02</td>\n",
       "      <td>1.000000e+02</td>\n",
       "      <td>100.000000</td>\n",
       "      <td>100.000000</td>\n",
       "      <td>100.000000</td>\n",
       "      <td>100.000000</td>\n",
       "      <td>100.000000</td>\n",
       "      <td>100.000000</td>\n",
       "      <td>100.000000</td>\n",
       "      <td>...</td>\n",
       "      <td>100.000000</td>\n",
       "      <td>100.000000</td>\n",
       "      <td>100.000000</td>\n",
       "      <td>100.000000</td>\n",
       "      <td>100.000000</td>\n",
       "      <td>100.000000</td>\n",
       "      <td>100.000000</td>\n",
       "      <td>100.000000</td>\n",
       "      <td>100.000000</td>\n",
       "      <td>100.000000</td>\n",
       "    </tr>\n",
       "    <tr>\n",
       "      <th>mean</th>\n",
       "      <td>2012.820000</td>\n",
       "      <td>7.838400e+07</td>\n",
       "      <td>1.468679e+08</td>\n",
       "      <td>13407.270000</td>\n",
       "      <td>126.420000</td>\n",
       "      <td>73212.160000</td>\n",
       "      <td>92404.170000</td>\n",
       "      <td>125762.230000</td>\n",
       "      <td>76715.280000</td>\n",
       "      <td>27841.450000</td>\n",
       "      <td>...</td>\n",
       "      <td>35739.710000</td>\n",
       "      <td>124561.100000</td>\n",
       "      <td>103437.920000</td>\n",
       "      <td>19371.540000</td>\n",
       "      <td>24170.160000</td>\n",
       "      <td>19653.260000</td>\n",
       "      <td>4093.530000</td>\n",
       "      <td>624.370000</td>\n",
       "      <td>54096.740000</td>\n",
       "      <td>188245.680000</td>\n",
       "    </tr>\n",
       "    <tr>\n",
       "      <th>std</th>\n",
       "      <td>1.919491</td>\n",
       "      <td>7.445295e+07</td>\n",
       "      <td>1.454004e+08</td>\n",
       "      <td>10649.037862</td>\n",
       "      <td>19.050799</td>\n",
       "      <td>82669.594746</td>\n",
       "      <td>75666.918775</td>\n",
       "      <td>62162.752481</td>\n",
       "      <td>32586.358624</td>\n",
       "      <td>12883.912563</td>\n",
       "      <td>...</td>\n",
       "      <td>23092.041366</td>\n",
       "      <td>72089.245359</td>\n",
       "      <td>61116.374727</td>\n",
       "      <td>11324.680698</td>\n",
       "      <td>12841.696513</td>\n",
       "      <td>10669.041306</td>\n",
       "      <td>2187.955655</td>\n",
       "      <td>133.244262</td>\n",
       "      <td>32115.288162</td>\n",
       "      <td>106902.256347</td>\n",
       "    </tr>\n",
       "    <tr>\n",
       "      <th>min</th>\n",
       "      <td>2010.000000</td>\n",
       "      <td>3.000000e+06</td>\n",
       "      <td>2.238380e+05</td>\n",
       "      <td>39.000000</td>\n",
       "      <td>91.000000</td>\n",
       "      <td>6420.000000</td>\n",
       "      <td>7321.000000</td>\n",
       "      <td>11668.000000</td>\n",
       "      <td>8558.000000</td>\n",
       "      <td>3370.000000</td>\n",
       "      <td>...</td>\n",
       "      <td>4370.000000</td>\n",
       "      <td>12174.000000</td>\n",
       "      <td>9280.000000</td>\n",
       "      <td>2682.000000</td>\n",
       "      <td>1899.000000</td>\n",
       "      <td>1496.000000</td>\n",
       "      <td>355.000000</td>\n",
       "      <td>198.000000</td>\n",
       "      <td>3678.000000</td>\n",
       "      <td>19009.000000</td>\n",
       "    </tr>\n",
       "    <tr>\n",
       "      <th>25%</th>\n",
       "      <td>2011.000000</td>\n",
       "      <td>1.575000e+07</td>\n",
       "      <td>4.199752e+07</td>\n",
       "      <td>1000.000000</td>\n",
       "      <td>114.750000</td>\n",
       "      <td>30587.000000</td>\n",
       "      <td>47098.250000</td>\n",
       "      <td>83207.500000</td>\n",
       "      <td>54934.500000</td>\n",
       "      <td>17834.500000</td>\n",
       "      <td>...</td>\n",
       "      <td>17637.750000</td>\n",
       "      <td>78866.250000</td>\n",
       "      <td>64930.250000</td>\n",
       "      <td>12030.500000</td>\n",
       "      <td>15288.750000</td>\n",
       "      <td>12154.750000</td>\n",
       "      <td>2492.750000</td>\n",
       "      <td>545.000000</td>\n",
       "      <td>33328.750000</td>\n",
       "      <td>121863.500000</td>\n",
       "    </tr>\n",
       "    <tr>\n",
       "      <th>50%</th>\n",
       "      <td>2013.000000</td>\n",
       "      <td>4.225000e+07</td>\n",
       "      <td>1.070266e+08</td>\n",
       "      <td>13000.000000</td>\n",
       "      <td>124.000000</td>\n",
       "      <td>54900.500000</td>\n",
       "      <td>71376.000000</td>\n",
       "      <td>117405.500000</td>\n",
       "      <td>76862.000000</td>\n",
       "      <td>27072.000000</td>\n",
       "      <td>...</td>\n",
       "      <td>32639.500000</td>\n",
       "      <td>111317.500000</td>\n",
       "      <td>94010.500000</td>\n",
       "      <td>17763.000000</td>\n",
       "      <td>21869.500000</td>\n",
       "      <td>17782.000000</td>\n",
       "      <td>3771.500000</td>\n",
       "      <td>639.500000</td>\n",
       "      <td>48560.000000</td>\n",
       "      <td>169132.000000</td>\n",
       "    </tr>\n",
       "    <tr>\n",
       "      <th>75%</th>\n",
       "      <td>2014.000000</td>\n",
       "      <td>1.500000e+08</td>\n",
       "      <td>2.107548e+08</td>\n",
       "      <td>20000.000000</td>\n",
       "      <td>136.250000</td>\n",
       "      <td>80639.000000</td>\n",
       "      <td>115240.250000</td>\n",
       "      <td>166742.500000</td>\n",
       "      <td>100789.000000</td>\n",
       "      <td>37561.750000</td>\n",
       "      <td>...</td>\n",
       "      <td>47301.000000</td>\n",
       "      <td>158760.750000</td>\n",
       "      <td>135668.750000</td>\n",
       "      <td>24859.500000</td>\n",
       "      <td>30043.000000</td>\n",
       "      <td>24780.000000</td>\n",
       "      <td>5342.250000</td>\n",
       "      <td>727.000000</td>\n",
       "      <td>70167.000000</td>\n",
       "      <td>239628.250000</td>\n",
       "    </tr>\n",
       "    <tr>\n",
       "      <th>max</th>\n",
       "      <td>2016.000000</td>\n",
       "      <td>2.600000e+08</td>\n",
       "      <td>9.366622e+08</td>\n",
       "      <td>35000.000000</td>\n",
       "      <td>180.000000</td>\n",
       "      <td>584839.000000</td>\n",
       "      <td>485218.000000</td>\n",
       "      <td>304457.000000</td>\n",
       "      <td>162604.000000</td>\n",
       "      <td>67579.000000</td>\n",
       "      <td>...</td>\n",
       "      <td>136770.000000</td>\n",
       "      <td>472680.000000</td>\n",
       "      <td>392845.000000</td>\n",
       "      <td>73555.000000</td>\n",
       "      <td>79634.000000</td>\n",
       "      <td>65508.000000</td>\n",
       "      <td>12795.000000</td>\n",
       "      <td>885.000000</td>\n",
       "      <td>212524.000000</td>\n",
       "      <td>707266.000000</td>\n",
       "    </tr>\n",
       "  </tbody>\n",
       "</table>\n",
       "<p>8 rows × 32 columns</p>\n",
       "</div>"
      ],
      "text/plain": [
       "        title_year        budget         Gross  actor_1_facebook_likes  \\\n",
       "count   100.000000  1.000000e+02  1.000000e+02              100.000000   \n",
       "mean   2012.820000  7.838400e+07  1.468679e+08            13407.270000   \n",
       "std       1.919491  7.445295e+07  1.454004e+08            10649.037862   \n",
       "min    2010.000000  3.000000e+06  2.238380e+05               39.000000   \n",
       "25%    2011.000000  1.575000e+07  4.199752e+07             1000.000000   \n",
       "50%    2013.000000  4.225000e+07  1.070266e+08            13000.000000   \n",
       "75%    2014.000000  1.500000e+08  2.107548e+08            20000.000000   \n",
       "max    2016.000000  2.600000e+08  9.366622e+08            35000.000000   \n",
       "\n",
       "          Runtime       CVotes10       CVotes09       CVotes08       CVotes07  \\\n",
       "count  100.000000     100.000000     100.000000     100.000000     100.000000   \n",
       "mean   126.420000   73212.160000   92404.170000  125762.230000   76715.280000   \n",
       "std     19.050799   82669.594746   75666.918775   62162.752481   32586.358624   \n",
       "min     91.000000    6420.000000    7321.000000   11668.000000    8558.000000   \n",
       "25%    114.750000   30587.000000   47098.250000   83207.500000   54934.500000   \n",
       "50%    124.000000   54900.500000   71376.000000  117405.500000   76862.000000   \n",
       "75%    136.250000   80639.000000  115240.250000  166742.500000  100789.000000   \n",
       "max    180.000000  584839.000000  485218.000000  304457.000000  162604.000000   \n",
       "\n",
       "           CVotes06  ...    CVotes1829F     CVotes3044    CVotes3044M  \\\n",
       "count    100.000000  ...     100.000000     100.000000     100.000000   \n",
       "mean   27841.450000  ...   35739.710000  124561.100000  103437.920000   \n",
       "std    12883.912563  ...   23092.041366   72089.245359   61116.374727   \n",
       "min     3370.000000  ...    4370.000000   12174.000000    9280.000000   \n",
       "25%    17834.500000  ...   17637.750000   78866.250000   64930.250000   \n",
       "50%    27072.000000  ...   32639.500000  111317.500000   94010.500000   \n",
       "75%    37561.750000  ...   47301.000000  158760.750000  135668.750000   \n",
       "max    67579.000000  ...  136770.000000  472680.000000  392845.000000   \n",
       "\n",
       "        CVotes3044F     CVotes45A    CVotes45AM    CVotes45AF  CVotes1000  \\\n",
       "count    100.000000    100.000000    100.000000    100.000000  100.000000   \n",
       "mean   19371.540000  24170.160000  19653.260000   4093.530000  624.370000   \n",
       "std    11324.680698  12841.696513  10669.041306   2187.955655  133.244262   \n",
       "min     2682.000000   1899.000000   1496.000000    355.000000  198.000000   \n",
       "25%    12030.500000  15288.750000  12154.750000   2492.750000  545.000000   \n",
       "50%    17763.000000  21869.500000  17782.000000   3771.500000  639.500000   \n",
       "75%    24859.500000  30043.000000  24780.000000   5342.250000  727.000000   \n",
       "max    73555.000000  79634.000000  65508.000000  12795.000000  885.000000   \n",
       "\n",
       "            CVotesUS      CVotesnUS  \n",
       "count     100.000000     100.000000  \n",
       "mean    54096.740000  188245.680000  \n",
       "std     32115.288162  106902.256347  \n",
       "min      3678.000000   19009.000000  \n",
       "25%     33328.750000  121863.500000  \n",
       "50%     48560.000000  169132.000000  \n",
       "75%     70167.000000  239628.250000  \n",
       "max    212524.000000  707266.000000  \n",
       "\n",
       "[8 rows x 32 columns]"
      ]
     },
     "execution_count": 7,
     "metadata": {},
     "output_type": "execute_result"
    }
   ],
   "source": [
    "# Check the summary for the numeric columns \n",
    "movies[movies.select_dtypes(np.int64,np.float64).columns].describe()"
   ]
  },
  {
   "cell_type": "markdown",
   "metadata": {},
   "source": [
    "## Task 2: Data Analysis\n",
    "\n",
    "Now that we have loaded the dataset and inspected it, we see that most of the data is in place. As of now, no data cleaning is required, so let's start with some data manipulation, analysis, and visualisation to get various insights about the data. "
   ]
  },
  {
   "cell_type": "markdown",
   "metadata": {},
   "source": [
    "-  ###  Subtask 2.1: Reduce those Digits!\n",
    "\n",
    "These numbers in the `budget` and `gross` are too big, compromising its readability. Let's convert the unit of the `budget` and `gross` columns from `$` to `million $` first."
   ]
  },
  {
   "cell_type": "code",
   "execution_count": 8,
   "metadata": {},
   "outputs": [],
   "source": [
    "# Divide the 'gross' and 'budget' columns by 1000000 to convert '$' to 'million $'\n",
    "movies['budget']=movies['budget'].apply(lambda x:float(x/1000000))\n",
    "movies['Gross']=movies['Gross'].apply(lambda x:float(x/1000000))"
   ]
  },
  {
   "cell_type": "markdown",
   "metadata": {},
   "source": [
    "-  ###  Subtask 2.2: Let's Talk Profit!\n",
    "\n",
    "    1. Create a new column called `profit` which contains the difference of the two columns: `gross` and `budget`.\n",
    "    2. Sort the dataframe using the `profit` column as reference.\n",
    "    3. Extract the top ten profiting movies in descending order and store them in a new dataframe - `top10`.\n",
    "    4. Plot a scatter or a joint plot between the columns `budget` and `profit` and write a few words on what you observed.\n",
    "    5. Extract the movies with a negative profit and store them in a new dataframe - `neg_profit`"
   ]
  },
  {
   "cell_type": "code",
   "execution_count": 9,
   "metadata": {},
   "outputs": [],
   "source": [
    "# Create the new column named 'profit' by subtracting the 'budget' column from the 'gross' column\n",
    "movies['profit']=movies['Gross']-movies['budget']"
   ]
  },
  {
   "cell_type": "code",
   "execution_count": 10,
   "metadata": {},
   "outputs": [],
   "source": [
    "# Sort the dataframe with the 'profit' column as reference using the 'sort_values' function. Make sure to set the argument\n",
    "#'ascending' to 'False'\n",
    "movies.sort_values('profit',ascending=False,inplace=True)\n",
    "movies=movies.reset_index(drop=True)"
   ]
  },
  {
   "cell_type": "code",
   "execution_count": 11,
   "metadata": {},
   "outputs": [],
   "source": [
    "# Get the top 10 profitable movies by using position based indexing. Specify the rows till 10 (0-9)\n",
    "top10=movies.iloc[0:10]"
   ]
  },
  {
   "cell_type": "code",
   "execution_count": 12,
   "metadata": {},
   "outputs": [
    {
     "data": {
      "image/png": "[encoded data removed]",
      "text/plain": [
       "<Figure size 432x432 with 3 Axes>"
      ]
     },
     "metadata": {
      "needs_background": "light"
     },
     "output_type": "display_data"
    }
   ],
   "source": [
    "#Plot profit vs budget\n",
    "sns.jointplot(data=movies,x='profit', y='budget',kind='scatter')\n",
    "plt.show()"
   ]
  },
  {
   "cell_type": "markdown",
   "metadata": {},
   "source": [
    "From the above we can see that the spread of budget is high between 5-55 million dollars approimately and spread of profit is high between -10 to 60 million dollars approximately. This suggests that most of the low budget movies were successful. A second movie cluster can be noticed at 150 to 200 million dollars budget for which profit is more scattered. This suggests high budget movies have seen less success as compared to low budget movies."
   ]
  },
  {
   "cell_type": "markdown",
   "metadata": {},
   "source": [
    "The dataset contains the 100 best performing movies from the year 2010 to 2016. However scatter plot tells a different story. You can notice that there are some movies with negative profit. Although good movies do incur losses, but there appear to be quite a few movie with losses. What can be the reason behind this? Lets have a closer look at this by finding the movies with negative profit."
   ]
  },
  {
   "cell_type": "code",
   "execution_count": 13,
   "metadata": {},
   "outputs": [],
   "source": [
    "#Find the movies with negative profit\n",
    "neg_profit=movies[movies.profit<0]\n",
    "neg_profit=neg_profit.reset_index(drop=True)"
   ]
  },
  {
   "cell_type": "markdown",
   "metadata": {},
   "source": [
    "**`Checkpoint 1:`** Can you spot the movie `Tangled` in the dataset? You may be aware of the movie 'Tangled'. Although its one of the highest grossing movies of all time, it has negative profit as per this result. If you cross check the gross values of this movie (link: https://www.imdb.com/title/tt0398286/), you can see that the gross in the dataset accounts only for the domestic gross and not the worldwide gross. This is true for may other movies also in the list."
   ]
  },
  {
   "cell_type": "markdown",
   "metadata": {},
   "source": [
    "- ### Subtask 2.3: The General Audience and the Critics\n",
    "\n",
    "You might have noticed the column `MetaCritic` in this dataset. This is a very popular website where an average score is determined through the scores given by the top-rated critics. Second, you also have another column `IMDb_rating` which tells you the IMDb rating of a movie. This rating is determined by taking the average of hundred-thousands of ratings from the general audience. \n",
    "\n",
    "As a part of this subtask, you are required to find out the highest rated movies which have been liked by critics and audiences alike.\n",
    "1. Firstly you will notice that the `MetaCritic` score is on a scale of `100` whereas the `IMDb_rating` is on a scale of 10. First convert the `MetaCritic` column to a scale of 10.\n",
    "2. Now, to find out the movies which have been liked by both critics and audiences alike and also have a high rating overall, you need to -\n",
    "    - Create a new column `Avg_rating` which will have the average of the `MetaCritic` and `Rating` columns\n",
    "    - Retain only the movies in which the absolute difference(using abs() function) between the `IMDb_rating` and `Metacritic` columns is less than 0.5. Refer to this link to know how abs() funtion works - https://www.geeksforgeeks.org/abs-in-python/ .\n",
    "    - Sort these values in a descending order of `Avg_rating` and retain only the movies with a rating equal to higher than `8` and store these movies in a new dataframe `UniversalAcclaim`.\n",
    "    "
   ]
  },
  {
   "cell_type": "code",
   "execution_count": 14,
   "metadata": {},
   "outputs": [],
   "source": [
    "# Change the scale of MetaCritic\n",
    "movies['MetaCritic']=movies['MetaCritic'].div(10).round(1)"
   ]
  },
  {
   "cell_type": "code",
   "execution_count": 15,
   "metadata": {},
   "outputs": [],
   "source": [
    "# Find the average ratings\n",
    "movies['Avg_rating']=(movies['MetaCritic']+movies['IMDb_rating']).div(2).round(1)"
   ]
  },
  {
   "cell_type": "code",
   "execution_count": 16,
   "metadata": {},
   "outputs": [],
   "source": [
    "#Sort in descending order of average rating\n",
    "movies.sort_values('Avg_rating',ascending=False,inplace=True)\n",
    "movies=movies.reset_index(drop=True)"
   ]
  },
  {
   "cell_type": "code",
   "execution_count": 17,
   "metadata": {},
   "outputs": [],
   "source": [
    "# Find the movies with metacritic-rating < 0.5 and also with the average rating of >8\n",
    "UniversalAcclaim=movies[(abs(movies['MetaCritic']-movies['IMDb_rating'])<0.5)&(movies['Avg_rating']>=8)]\n",
    "UniversalAcclaim=UniversalAcclaim.reset_index(drop=True)"
   ]
  },
  {
   "cell_type": "markdown",
   "metadata": {},
   "source": [
    "**`Checkpoint 2:`** Can you spot a `Star Wars` movie in your final dataset?"
   ]
  },
  {
   "cell_type": "markdown",
   "metadata": {},
   "source": [
    "- ### Subtask 2.4: Find the Most Popular Trios - I\n",
    "\n",
    "You're a producer looking to make a blockbuster movie. There will primarily be three lead roles in your movie and you wish to cast the most popular actors for it. Now, since you don't want to take a risk, you will cast a trio which has already acted in together in a movie before. The metric that you've chosen to check the popularity is the Facebook likes of each of these actors.\n",
    "\n",
    "The dataframe has three columns to help you out for the same, viz. `actor_1_facebook_likes`, `actor_2_facebook_likes`, and `actor_3_facebook_likes`. Your objective is to find the trios which has the most number of Facebook likes combined. That is, the sum of `actor_1_facebook_likes`, `actor_2_facebook_likes` and `actor_3_facebook_likes` should be maximum.\n",
    "Find out the top 5 popular trios, and output their names in a list.\n"
   ]
  },
  {
   "cell_type": "code",
   "execution_count": 18,
   "metadata": {},
   "outputs": [
    {
     "data": {
      "text/plain": [
       "[['Dev Patel', 'Nicole Kidman', 'Rooney Mara'],\n",
       " ['Leonardo DiCaprio', 'Tom Hardy', 'Joseph Gordon-Levitt'],\n",
       " ['Jennifer Lawrence', 'Peter Dinklage', 'Hugh Jackman'],\n",
       " ['Casey Affleck', 'Michelle Williams ', 'Kyle Chandler'],\n",
       " ['Tom Hardy', 'Christian Bale', 'Joseph Gordon-Levitt']]"
      ]
     },
     "execution_count": 18,
     "metadata": {},
     "output_type": "execute_result"
    }
   ],
   "source": [
    "# Write your code here\n",
    "movies['actors_likes']=movies['actor_1_facebook_likes']+movies['actor_2_facebook_likes']+movies['actor_3_facebook_likes']\n",
    "new_df=movies.sort_values('actors_likes',ascending=False).head(5)\n",
    "pop_trio=new_df[['actor_1_name','actor_2_name','actor_3_name']]\n",
    "pop_trio.values.tolist()"
   ]
  },
  {
   "cell_type": "markdown",
   "metadata": {},
   "source": [
    "- ### Subtask 2.5: Find the Most Popular Trios - II\n",
    "\n",
    "In the previous subtask you found the popular trio based on the total number of facebook likes. Let's add a small condition to it and make sure that all three actors are popular. The condition is **none of the three actors' Facebook likes should be less than half of the other two**. For example, the following is a valid combo:\n",
    "- actor_1_facebook_likes: 70000\n",
    "- actor_2_facebook_likes: 40000\n",
    "- actor_3_facebook_likes: 50000\n",
    "\n",
    "But the below one is not:\n",
    "- actor_1_facebook_likes: 70000\n",
    "- actor_2_facebook_likes: 40000\n",
    "- actor_3_facebook_likes: 30000\n",
    "\n",
    "since in this case, `actor_3_facebook_likes` is 30000, which is less than half of `actor_1_facebook_likes`.\n",
    "\n",
    "Having this condition ensures that you aren't getting any unpopular actor in your trio (since the total likes calculated in the previous question doesn't tell anything about the individual popularities of each actor in the trio.).\n",
    "\n",
    "You can do a manual inspection of the top 5 popular trios you have found in the previous subtask and check how many of those trios satisfy this condition. Also, which is the most popular trio after applying the condition above?"
   ]
  },
  {
   "cell_type": "markdown",
   "metadata": {},
   "source": [
    "**Write your answers below.**\n",
    "\n",
    "- **`No. of trios that satisfy the above condition:`** 21\n",
    "\n",
    "- **`Most popular trio after applying the condition:`** ['Leonardo DiCaprio', 'Tom Hardy', 'Joseph Gordon-Levitt']"
   ]
  },
  {
   "cell_type": "code",
   "execution_count": 19,
   "metadata": {},
   "outputs": [],
   "source": [
    "def fam(a,b,c):\n",
    "    if(a<(0.5*b) or a<(0.5*c)):\n",
    "        return 0\n",
    "    elif(b<(0.5*c) or b<(0.5*a)):\n",
    "        return 0\n",
    "    elif(c<(0.5*b) or c<(0.5*a)):\n",
    "        return 0\n",
    "    else:\n",
    "        return a+b+c"
   ]
  },
  {
   "cell_type": "code",
   "execution_count": 20,
   "metadata": {},
   "outputs": [],
   "source": [
    "movies['actors_likes']=movies[['actor_1_facebook_likes','actor_2_facebook_likes','actor_3_facebook_likes']].apply(lambda x: fam(x['actor_1_facebook_likes'],x['actor_2_facebook_likes'],x['actor_3_facebook_likes']),axis=1)"
   ]
  },
  {
   "cell_type": "code",
   "execution_count": 21,
   "metadata": {},
   "outputs": [
    {
     "data": {
      "text/plain": [
       "[['Leonardo DiCaprio', 'Tom Hardy', 'Joseph Gordon-Levitt']]"
      ]
     },
     "execution_count": 21,
     "metadata": {},
     "output_type": "execute_result"
    }
   ],
   "source": [
    "no_of_trios=movies[movies['actors_likes']!=0].shape[0]\n",
    "most_pop_trio=movies[movies['actors_likes']==(movies['actors_likes'].max())][['actor_1_name','actor_2_name','actor_3_name']]\n",
    "most_pop_trio.values.tolist()"
   ]
  },
  {
   "cell_type": "markdown",
   "metadata": {},
   "source": [
    "**`Optional:`** Even though you are finding this out by a natural inspection of the dataframe, can you also achieve this through some *if-else* statements to incorporate this. You can try this out on your own time after you are done with the assignment."
   ]
  },
  {
   "cell_type": "code",
   "execution_count": 22,
   "metadata": {},
   "outputs": [],
   "source": [
    "# Your answer here (optional)\n"
   ]
  },
  {
   "cell_type": "markdown",
   "metadata": {},
   "source": [
    "- ### Subtask 2.6: Runtime Analysis\n",
    "\n",
    "There is a column named `Runtime` in the dataframe which primarily shows the length of the movie. It might be intersting to see how this variable this distributed. Plot a `histogram` or `distplot` of seaborn to find the `Runtime` range most of the movies fall into."
   ]
  },
  {
   "cell_type": "code",
   "execution_count": 23,
   "metadata": {},
   "outputs": [
    {
     "data": {
      "image/png": "[encoded data removed]",
      "text/plain": [
       "<Figure size 432x288 with 1 Axes>"
      ]
     },
     "metadata": {},
     "output_type": "display_data"
    }
   ],
   "source": [
    "# Runtime histogram/density plot\n",
    "sns.set_style('whitegrid') \n",
    "sns.distplot(movies['Runtime'], kde = False, color ='red')\n",
    "plt.show()"
   ]
  },
  {
   "cell_type": "markdown",
   "metadata": {},
   "source": [
    "**`Checkpoint 3:`** Most of the movies appear to be sharply 2 hour-long."
   ]
  },
  {
   "cell_type": "markdown",
   "metadata": {},
   "source": [
    "- ### Subtask 2.7: R-Rated Movies\n",
    "\n",
    "Although R rated movies are restricted movies for the under 18 age group, still there are vote counts from that age group. Among all the R rated movies that have been voted by the under-18 age group, find the top 10 movies that have the highest number of votes i.e.`CVotesU18` from the `movies` dataframe. Store these in a dataframe named `PopularR`."
   ]
  },
  {
   "cell_type": "code",
   "execution_count": 24,
   "metadata": {},
   "outputs": [],
   "source": [
    "# Write your code here\n",
    "PopularR=movies[movies.content_rating=='R'].sort_values('CVotesU18',ascending=False).head(10)"
   ]
  },
  {
   "cell_type": "markdown",
   "metadata": {},
   "source": [
    "**`Checkpoint 4:`** Are these kids watching `Deadpool` a lot?"
   ]
  },
  {
   "cell_type": "markdown",
   "metadata": {},
   "source": [
    " "
   ]
  },
  {
   "cell_type": "markdown",
   "metadata": {},
   "source": [
    "## Task 3 : Demographic analysis\n",
    "\n",
    "If you take a look at the last columns in the dataframe, most of these are related to demographics of the voters (in the last subtask, i.e., 2.8, you made use one of these columns - CVotesU18). We also have three genre columns indicating the genres of a particular movie. We will extensively use these columns for the third and the final stage of our assignment wherein we will analyse the voters across all demographics and also see how these vary across various genres. So without further ado, let's get started with `demographic analysis`."
   ]
  },
  {
   "cell_type": "markdown",
   "metadata": {},
   "source": [
    "-  ###  Subtask 3.1 Combine the Dataframe by Genres\n",
    "\n",
    "There are 3 columns in the dataframe - `genre_1`, `genre_2`, and `genre_3`. As a part of this subtask, you need to aggregate a few values over these 3 columns. \n",
    "1. First create a new dataframe `df_by_genre` that contains `genre_1`, `genre_2`, and `genre_3` and all the columns related to **CVotes/Votes** from the `movies` data frame. There are 47 columns to be extracted in total.\n",
    "2. Now, Add a column called `cnt` to the dataframe `df_by_genre` and initialize it to one. You will realise the use of this column by the end of this subtask.\n",
    "3. First group the dataframe `df_by_genre` by `genre_1` and find the sum of all the numeric columns such as `cnt`, columns related to CVotes and Votes columns and store it in a dataframe `df_by_g1`.\n",
    "4. Perform the same operation for `genre_2` and `genre_3` and store it dataframes `df_by_g2` and `df_by_g3` respectively. \n",
    "5. Now that you have 3 dataframes performed by grouping over `genre_1`, `genre_2`, and `genre_3` separately, it's time to combine them. For this, add the three dataframes and store it in a new dataframe `df_add`, so that the corresponding values of Votes/CVotes get added for each genre.There is a function called `add()` in pandas which lets you do this. You can refer to this link to see how this function works. https://pandas.pydata.org/pandas-docs/version/0.23.4/generated/pandas.DataFrame.add.html\n",
    "6. The column `cnt` on aggregation has basically kept the track of the number of occurences of each genre.Subset the genres that have atleast 10 movies into a new dataframe `genre_top10` based on the `cnt` column value.\n",
    "7. Now, take the mean of all the numeric columns by dividing them with the column value `cnt` and store it back to the same dataframe. We will be using this dataframe for further analysis in this task unless it is explicitly mentioned to use the dataframe `movies`.\n",
    "8. Since the number of votes can't be a fraction, type cast all the CVotes related columns to integers. Also, round off all the Votes related columns upto two digits after the decimal point.\n"
   ]
  },
  {
   "cell_type": "code",
   "execution_count": 25,
   "metadata": {},
   "outputs": [],
   "source": [
    "# Create the dataframe df_by_genre\n",
    "df_by_genre=movies.iloc[:,11:60]\n",
    "df_by_genre.drop(['MetaCritic','Runtime'],axis=1,inplace=True)"
   ]
  },
  {
   "cell_type": "code",
   "execution_count": 26,
   "metadata": {},
   "outputs": [],
   "source": [
    "# Create a column cnt and initialize it to 1\n",
    "df_by_genre['cnt']=1"
   ]
  },
  {
   "cell_type": "code",
   "execution_count": 27,
   "metadata": {},
   "outputs": [],
   "source": [
    "# Group the movies by individual genres\n",
    "df_by_g1=df_by_genre.groupby('genre_1').sum()\n",
    "df_by_g2=df_by_genre.groupby('genre_2').sum()\n",
    "df_by_g3=df_by_genre.groupby('genre_3').sum()\n"
   ]
  },
  {
   "cell_type": "code",
   "execution_count": 28,
   "metadata": {},
   "outputs": [],
   "source": [
    "# Add the grouped data frames and store it in a new data frame\n",
    "df_add=df_by_g1.add(df_by_g2.add(df_by_g3,fill_value=0),fill_value=0)"
   ]
  },
  {
   "cell_type": "code",
   "execution_count": 29,
   "metadata": {},
   "outputs": [],
   "source": [
    "# Extract genres with atleast 10 occurences\n",
    "genre_top10=df_add[df_add.cnt>=10]\n"
   ]
  },
  {
   "cell_type": "code",
   "execution_count": 30,
   "metadata": {},
   "outputs": [],
   "source": [
    "# Take the mean for every column by dividing with cnt \n",
    "genre_top10.iloc[:,:-1]=genre_top10.iloc[:,:-1].div(genre_top10.cnt,axis=0)\n"
   ]
  },
  {
   "cell_type": "code",
   "execution_count": 31,
   "metadata": {},
   "outputs": [],
   "source": [
    "# Rounding off the columns of Votes to two decimals\n",
    "genre_top10.iloc[:,27:-1]=genre_top10.iloc[:,27:-1].round(2)\n"
   ]
  },
  {
   "cell_type": "code",
   "execution_count": 35,
   "metadata": {
    "scrolled": false
   },
   "outputs": [
    {
     "data": {
      "text/html": [
       "<div>\n",
       "<style scoped>\n",
       "    .dataframe tbody tr th:only-of-type {\n",
       "        vertical-align: middle;\n",
       "    }\n",
       "\n",
       "    .dataframe tbody tr th {\n",
       "        vertical-align: top;\n",
       "    }\n",
       "\n",
       "    .dataframe thead th {\n",
       "        text-align: right;\n",
       "    }\n",
       "</style>\n",
       "<table border=\"1\" class=\"dataframe\">\n",
       "  <thead>\n",
       "    <tr style=\"text-align: right;\">\n",
       "      <th></th>\n",
       "      <th>CVotes10</th>\n",
       "      <th>CVotes09</th>\n",
       "      <th>CVotes08</th>\n",
       "      <th>CVotes07</th>\n",
       "      <th>CVotes06</th>\n",
       "      <th>CVotes05</th>\n",
       "      <th>CVotes04</th>\n",
       "      <th>CVotes03</th>\n",
       "      <th>CVotes02</th>\n",
       "      <th>CVotes01</th>\n",
       "      <th>...</th>\n",
       "      <th>Votes3044</th>\n",
       "      <th>Votes3044M</th>\n",
       "      <th>Votes3044F</th>\n",
       "      <th>Votes45A</th>\n",
       "      <th>Votes45AM</th>\n",
       "      <th>Votes45AF</th>\n",
       "      <th>Votes1000</th>\n",
       "      <th>VotesUS</th>\n",
       "      <th>VotesnUS</th>\n",
       "      <th>cnt</th>\n",
       "    </tr>\n",
       "  </thead>\n",
       "  <tbody>\n",
       "    <tr>\n",
       "      <th>Action</th>\n",
       "      <td>102144</td>\n",
       "      <td>114433</td>\n",
       "      <td>150895</td>\n",
       "      <td>94262</td>\n",
       "      <td>34688</td>\n",
       "      <td>12693</td>\n",
       "      <td>5386</td>\n",
       "      <td>3064</td>\n",
       "      <td>2115</td>\n",
       "      <td>5524</td>\n",
       "      <td>...</td>\n",
       "      <td>7.74</td>\n",
       "      <td>7.73</td>\n",
       "      <td>7.80</td>\n",
       "      <td>7.65</td>\n",
       "      <td>7.63</td>\n",
       "      <td>7.75</td>\n",
       "      <td>7.30</td>\n",
       "      <td>7.99</td>\n",
       "      <td>7.76</td>\n",
       "      <td>31.0</td>\n",
       "    </tr>\n",
       "    <tr>\n",
       "      <th>Adventure</th>\n",
       "      <td>94596</td>\n",
       "      <td>105636</td>\n",
       "      <td>138482</td>\n",
       "      <td>86367</td>\n",
       "      <td>31896</td>\n",
       "      <td>11551</td>\n",
       "      <td>4817</td>\n",
       "      <td>2718</td>\n",
       "      <td>1835</td>\n",
       "      <td>4575</td>\n",
       "      <td>...</td>\n",
       "      <td>7.75</td>\n",
       "      <td>7.73</td>\n",
       "      <td>7.87</td>\n",
       "      <td>7.68</td>\n",
       "      <td>7.64</td>\n",
       "      <td>7.84</td>\n",
       "      <td>7.38</td>\n",
       "      <td>7.99</td>\n",
       "      <td>7.79</td>\n",
       "      <td>38.0</td>\n",
       "    </tr>\n",
       "    <tr>\n",
       "      <th>Animation</th>\n",
       "      <td>61960</td>\n",
       "      <td>72566</td>\n",
       "      <td>104837</td>\n",
       "      <td>65707</td>\n",
       "      <td>22825</td>\n",
       "      <td>7551</td>\n",
       "      <td>2792</td>\n",
       "      <td>1430</td>\n",
       "      <td>911</td>\n",
       "      <td>2290</td>\n",
       "      <td>...</td>\n",
       "      <td>7.76</td>\n",
       "      <td>7.72</td>\n",
       "      <td>7.98</td>\n",
       "      <td>7.68</td>\n",
       "      <td>7.65</td>\n",
       "      <td>7.88</td>\n",
       "      <td>7.27</td>\n",
       "      <td>7.96</td>\n",
       "      <td>7.83</td>\n",
       "      <td>11.0</td>\n",
       "    </tr>\n",
       "    <tr>\n",
       "      <th>Biography</th>\n",
       "      <td>47333</td>\n",
       "      <td>77867</td>\n",
       "      <td>123948</td>\n",
       "      <td>74054</td>\n",
       "      <td>23644</td>\n",
       "      <td>7702</td>\n",
       "      <td>2984</td>\n",
       "      <td>1639</td>\n",
       "      <td>1145</td>\n",
       "      <td>2849</td>\n",
       "      <td>...</td>\n",
       "      <td>7.73</td>\n",
       "      <td>7.72</td>\n",
       "      <td>7.77</td>\n",
       "      <td>7.69</td>\n",
       "      <td>7.66</td>\n",
       "      <td>7.87</td>\n",
       "      <td>7.23</td>\n",
       "      <td>7.93</td>\n",
       "      <td>7.77</td>\n",
       "      <td>18.0</td>\n",
       "    </tr>\n",
       "    <tr>\n",
       "      <th>Comedy</th>\n",
       "      <td>60157</td>\n",
       "      <td>77173</td>\n",
       "      <td>108993</td>\n",
       "      <td>69176</td>\n",
       "      <td>26099</td>\n",
       "      <td>9863</td>\n",
       "      <td>4237</td>\n",
       "      <td>2444</td>\n",
       "      <td>1712</td>\n",
       "      <td>3842</td>\n",
       "      <td>...</td>\n",
       "      <td>7.71</td>\n",
       "      <td>7.71</td>\n",
       "      <td>7.75</td>\n",
       "      <td>7.61</td>\n",
       "      <td>7.60</td>\n",
       "      <td>7.70</td>\n",
       "      <td>7.19</td>\n",
       "      <td>7.94</td>\n",
       "      <td>7.78</td>\n",
       "      <td>23.0</td>\n",
       "    </tr>\n",
       "    <tr>\n",
       "      <th>Crime</th>\n",
       "      <td>52229</td>\n",
       "      <td>87919</td>\n",
       "      <td>129045</td>\n",
       "      <td>74671</td>\n",
       "      <td>25308</td>\n",
       "      <td>8971</td>\n",
       "      <td>3842</td>\n",
       "      <td>2246</td>\n",
       "      <td>1544</td>\n",
       "      <td>3383</td>\n",
       "      <td>...</td>\n",
       "      <td>7.72</td>\n",
       "      <td>7.76</td>\n",
       "      <td>7.61</td>\n",
       "      <td>7.63</td>\n",
       "      <td>7.62</td>\n",
       "      <td>7.68</td>\n",
       "      <td>7.39</td>\n",
       "      <td>7.98</td>\n",
       "      <td>7.80</td>\n",
       "      <td>11.0</td>\n",
       "    </tr>\n",
       "    <tr>\n",
       "      <th>Drama</th>\n",
       "      <td>52375</td>\n",
       "      <td>75928</td>\n",
       "      <td>109339</td>\n",
       "      <td>66456</td>\n",
       "      <td>23528</td>\n",
       "      <td>8497</td>\n",
       "      <td>3622</td>\n",
       "      <td>2078</td>\n",
       "      <td>1449</td>\n",
       "      <td>3250</td>\n",
       "      <td>...</td>\n",
       "      <td>7.71</td>\n",
       "      <td>7.71</td>\n",
       "      <td>7.72</td>\n",
       "      <td>7.64</td>\n",
       "      <td>7.62</td>\n",
       "      <td>7.74</td>\n",
       "      <td>7.22</td>\n",
       "      <td>7.94</td>\n",
       "      <td>7.78</td>\n",
       "      <td>65.0</td>\n",
       "    </tr>\n",
       "    <tr>\n",
       "      <th>Romance</th>\n",
       "      <td>42304</td>\n",
       "      <td>53037</td>\n",
       "      <td>82252</td>\n",
       "      <td>54833</td>\n",
       "      <td>21637</td>\n",
       "      <td>8530</td>\n",
       "      <td>3762</td>\n",
       "      <td>2130</td>\n",
       "      <td>1476</td>\n",
       "      <td>3082</td>\n",
       "      <td>...</td>\n",
       "      <td>7.61</td>\n",
       "      <td>7.61</td>\n",
       "      <td>7.66</td>\n",
       "      <td>7.52</td>\n",
       "      <td>7.50</td>\n",
       "      <td>7.61</td>\n",
       "      <td>6.92</td>\n",
       "      <td>7.83</td>\n",
       "      <td>7.70</td>\n",
       "      <td>13.0</td>\n",
       "    </tr>\n",
       "    <tr>\n",
       "      <th>Sci-Fi</th>\n",
       "      <td>136781</td>\n",
       "      <td>148873</td>\n",
       "      <td>176646</td>\n",
       "      <td>106005</td>\n",
       "      <td>39518</td>\n",
       "      <td>14951</td>\n",
       "      <td>6583</td>\n",
       "      <td>3876</td>\n",
       "      <td>2715</td>\n",
       "      <td>6731</td>\n",
       "      <td>...</td>\n",
       "      <td>7.86</td>\n",
       "      <td>7.85</td>\n",
       "      <td>7.84</td>\n",
       "      <td>7.71</td>\n",
       "      <td>7.69</td>\n",
       "      <td>7.74</td>\n",
       "      <td>7.52</td>\n",
       "      <td>8.09</td>\n",
       "      <td>7.88</td>\n",
       "      <td>17.0</td>\n",
       "    </tr>\n",
       "    <tr>\n",
       "      <th>Thriller</th>\n",
       "      <td>83207</td>\n",
       "      <td>112730</td>\n",
       "      <td>153336</td>\n",
       "      <td>90446</td>\n",
       "      <td>32003</td>\n",
       "      <td>11534</td>\n",
       "      <td>5021</td>\n",
       "      <td>2918</td>\n",
       "      <td>1982</td>\n",
       "      <td>4433</td>\n",
       "      <td>...</td>\n",
       "      <td>7.74</td>\n",
       "      <td>7.75</td>\n",
       "      <td>7.70</td>\n",
       "      <td>7.66</td>\n",
       "      <td>7.64</td>\n",
       "      <td>7.75</td>\n",
       "      <td>7.40</td>\n",
       "      <td>7.93</td>\n",
       "      <td>7.81</td>\n",
       "      <td>13.0</td>\n",
       "    </tr>\n",
       "  </tbody>\n",
       "</table>\n",
       "<p>10 rows × 45 columns</p>\n",
       "</div>"
      ],
      "text/plain": [
       "           CVotes10  CVotes09  CVotes08  CVotes07  CVotes06  CVotes05  \\\n",
       "Action       102144    114433    150895     94262     34688     12693   \n",
       "Adventure     94596    105636    138482     86367     31896     11551   \n",
       "Animation     61960     72566    104837     65707     22825      7551   \n",
       "Biography     47333     77867    123948     74054     23644      7702   \n",
       "Comedy        60157     77173    108993     69176     26099      9863   \n",
       "Crime         52229     87919    129045     74671     25308      8971   \n",
       "Drama         52375     75928    109339     66456     23528      8497   \n",
       "Romance       42304     53037     82252     54833     21637      8530   \n",
       "Sci-Fi       136781    148873    176646    106005     39518     14951   \n",
       "Thriller      83207    112730    153336     90446     32003     11534   \n",
       "\n",
       "           CVotes04  CVotes03  CVotes02  CVotes01  ...  Votes3044  Votes3044M  \\\n",
       "Action         5386      3064      2115      5524  ...       7.74        7.73   \n",
       "Adventure      4817      2718      1835      4575  ...       7.75        7.73   \n",
       "Animation      2792      1430       911      2290  ...       7.76        7.72   \n",
       "Biography      2984      1639      1145      2849  ...       7.73        7.72   \n",
       "Comedy         4237      2444      1712      3842  ...       7.71        7.71   \n",
       "Crime          3842      2246      1544      3383  ...       7.72        7.76   \n",
       "Drama          3622      2078      1449      3250  ...       7.71        7.71   \n",
       "Romance        3762      2130      1476      3082  ...       7.61        7.61   \n",
       "Sci-Fi         6583      3876      2715      6731  ...       7.86        7.85   \n",
       "Thriller       5021      2918      1982      4433  ...       7.74        7.75   \n",
       "\n",
       "           Votes3044F  Votes45A  Votes45AM  Votes45AF  Votes1000  VotesUS  \\\n",
       "Action           7.80      7.65       7.63       7.75       7.30     7.99   \n",
       "Adventure        7.87      7.68       7.64       7.84       7.38     7.99   \n",
       "Animation        7.98      7.68       7.65       7.88       7.27     7.96   \n",
       "Biography        7.77      7.69       7.66       7.87       7.23     7.93   \n",
       "Comedy           7.75      7.61       7.60       7.70       7.19     7.94   \n",
       "Crime            7.61      7.63       7.62       7.68       7.39     7.98   \n",
       "Drama            7.72      7.64       7.62       7.74       7.22     7.94   \n",
       "Romance          7.66      7.52       7.50       7.61       6.92     7.83   \n",
       "Sci-Fi           7.84      7.71       7.69       7.74       7.52     8.09   \n",
       "Thriller         7.70      7.66       7.64       7.75       7.40     7.93   \n",
       "\n",
       "           VotesnUS   cnt  \n",
       "Action         7.76  31.0  \n",
       "Adventure      7.79  38.0  \n",
       "Animation      7.83  11.0  \n",
       "Biography      7.77  18.0  \n",
       "Comedy         7.78  23.0  \n",
       "Crime          7.80  11.0  \n",
       "Drama          7.78  65.0  \n",
       "Romance        7.70  13.0  \n",
       "Sci-Fi         7.88  17.0  \n",
       "Thriller       7.81  13.0  \n",
       "\n",
       "[10 rows x 45 columns]"
      ]
     },
     "execution_count": 35,
     "metadata": {},
     "output_type": "execute_result"
    }
   ],
   "source": [
    "# Converting CVotes to int type\n",
    "genre_top10.iloc[:,:27]=genre_top10.iloc[:,:27].astype(int)\n",
    "genre_top10.iloc[:,:27]=genre_top10.iloc[:,:27].convert_dtypes()\n",
    "genre_top10"
   ]
  },
  {
   "cell_type": "markdown",
   "metadata": {},
   "source": [
    "If you take a look at the final dataframe that you have gotten, you will see that you now have the complete information about all the demographic (Votes- and CVotes-related) columns across the top 10 genres. We can use this dataset to extract exciting insights about the voters!"
   ]
  },
  {
   "cell_type": "markdown",
   "metadata": {},
   "source": [
    "-  ###  Subtask 3.2: Genre Counts!\n",
    "\n",
    "Now let's derive some insights from this data frame. Make a bar chart plotting different genres vs cnt using seaborn."
   ]
  },
  {
   "cell_type": "code",
   "execution_count": 36,
   "metadata": {
    "scrolled": true
   },
   "outputs": [
    {
     "data": {
      "image/png": "[encoded data removed]",
      "text/plain": [
       "<Figure size 648x432 with 1 Axes>"
      ]
     },
     "metadata": {},
     "output_type": "display_data"
    }
   ],
   "source": [
    "# Countplot for genres\n",
    "sns.set(rc={'figure.figsize':(9,6)})\n",
    "sns.barplot(x=genre_top10.index,y=genre_top10.cnt)\n",
    "plt.show()"
   ]
  },
  {
   "cell_type": "markdown",
   "metadata": {},
   "source": [
    "**`Checkpoint 5:`** Is the bar for `Drama` the tallest?"
   ]
  },
  {
   "cell_type": "markdown",
   "metadata": {},
   "source": [
    "-  ###  Subtask 3.3: Gender and Genre\n",
    "\n",
    "If you have closely looked at the Votes- and CVotes-related columns, you might have noticed the suffixes `F` and `M` indicating Female and Male. Since we have the vote counts for both males and females, across various age groups, let's now see how the popularity of genres vary between the two genders in the dataframe. \n",
    "\n",
    "1. Make the first heatmap to see how the average number of votes of males is varying across the genres. Use seaborn heatmap for this analysis. The X-axis should contain the four age-groups for males, i.e., `CVotesU18M`,`CVotes1829M`, `CVotes3044M`, and `CVotes45AM`. The Y-axis will have the genres and the annotation in the heatmap tell the average number of votes for that age-male group. \n",
    "\n",
    "2. Make the second heatmap to see how the average number of votes of females is varying across the genres. Use seaborn heatmap for this analysis. The X-axis should contain the four age-groups for females, i.e., `CVotesU18F`,`CVotes1829F`, `CVotes3044F`, and `CVotes45AF`. The Y-axis will have the genres and the annotation in the heatmap tell the average number of votes for that age-female group. \n",
    "\n",
    "3. Make sure that you plot these heatmaps side by side using `subplots` so that you can easily compare the two genders and derive insights.\n",
    "\n",
    "4. Write your any three inferences from this plot. You can make use of the previous bar plot also here for better insights.\n",
    "Refer to this link- https://seaborn.pydata.org/generated/seaborn.heatmap.html. You might have to plot something similar to the fifth chart in this page (You have to plot two such heatmaps side by side).\n",
    "\n",
    "5. Repeat subtasks 1 to 4, but now instead of taking the CVotes-related columns, you need to do the same process for the Votes-related columns. These heatmaps will show you how the two genders have rated movies across various genres.\n",
    "\n",
    "You might need the below link for formatting your heatmap.\n",
    "https://stackoverflow.com/questions/56942670/matplotlib-seaborn-first-and-last-row-cut-in-half-of-heatmap-plot\n",
    "\n",
    "-  Note : Use `genre_top10` dataframe for this subtask"
   ]
  },
  {
   "cell_type": "code",
   "execution_count": 43,
   "metadata": {},
   "outputs": [
    {
     "data": {
      "image/png": "[encoded data removed]",
      "text/plain": [
       "<Figure size 1152x432 with 4 Axes>"
      ]
     },
     "metadata": {},
     "output_type": "display_data"
    }
   ],
   "source": [
    "# 1st set of heat maps for CVotes-related columns\n",
    "f, axes = plt.subplots(1, 2, figsize=(16,6))\n",
    "df = genre_top10[['CVotesU18M','CVotes1829M','CVotes3044M','CVotes45AM']].astype(int)\n",
    "sns.heatmap(df,annot=True,fmt='g',linewidths=0.30,ax=axes[0])\n",
    "df1 = genre_top10[['CVotesU18F','CVotes1829F','CVotes3044F','CVotes45AF']].astype(int)\n",
    "sns.heatmap(df1,annot=True,fmt='g',linewidths=0.30,ax=axes[1])\n",
    "plt.show()"
   ]
  },
  {
   "cell_type": "markdown",
   "metadata": {},
   "source": [
    "**`Inferences:`** A few inferences that can be seen from the heatmap above is that males have voted more than females, and Sci-Fi appears to be most popular among the 18-29 age group irrespective of their gender. What more can you infer from the two heatmaps that you have plotted? Write your three inferences/observations below:\n",
    "- Inference 1: Irrespective of the age group Sci-fi seems to be the most voted genre.\n",
    "- Inference 2: For both Males and Females 18-29 is the age group that registered most number of votes across the genres.\n",
    "- Inference 3: Romance is the least voted by Males of all age groups."
   ]
  },
  {
   "cell_type": "code",
   "execution_count": 45,
   "metadata": {},
   "outputs": [
    {
     "data": {
      "image/png": "[encoded data removed]",
      "text/plain": [
       "<Figure size 1152x432 with 4 Axes>"
      ]
     },
     "metadata": {},
     "output_type": "display_data"
    }
   ],
   "source": [
    "# 2nd set of heat maps for Votes-related columns\n",
    "f, axes = plt.subplots(1, 2, figsize=(16,6))\n",
    "df1 = genre_top10[['VotesU18F','Votes1829F','Votes3044F','Votes45AF']]\n",
    "df = genre_top10[['VotesU18M','Votes1829M','Votes3044M','Votes45AM']]\n",
    "sns.heatmap(df1,annot=True,fmt='.2f',linewidths=0.30,ax=axes[1])\n",
    "sns.heatmap(df,annot=True,fmt='.2f',linewidths=0.30,ax=axes[0])\n",
    "plt.show()\n"
   ]
  },
  {
   "cell_type": "markdown",
   "metadata": {},
   "source": [
    "**`Inferences:`** Sci-Fi appears to be the highest rated genre in the age group of U18 for both males and females. Also, females in this age group have rated it a bit higher than the males in the same age group. What more can you infer from the two heatmaps that you have plotted? Write your three inferences/observations below:\n",
    "- Inference 1: Irrespective of the gender, U18 age group has the highest ratings for all genres except Animation in Male category. \n",
    "- Inference 2: Sci-Fi genre has consistent high ratings irrespective of the gender.\n",
    "- Inference 3: Crime is the least rated genre for Females across the age groups except for 45A where it is the second least rated genre."
   ]
  },
  {
   "cell_type": "markdown",
   "metadata": {},
   "source": [
    "-  ###  Subtask 3.4: US vs non-US Cross Analysis\n",
    "\n",
    "The dataset contains both the US and non-US movies. Let's analyse how both the US and the non-US voters have responded to the US and the non-US movies.\n",
    "\n",
    "1. Create a column `IFUS` in the dataframe `movies`. The column `IFUS` should contain the value \"USA\" if the `Country` of the movie is \"USA\". For all other countries other than the USA, `IFUS` should contain the value `non-USA`.\n",
    "\n",
    "\n",
    "2. Now make a boxplot that shows how the number of votes from the US people i.e. `CVotesUS` is varying for the US and non-US movies. Make use of the column `IFUS` to make this plot. Similarly, make another subplot that shows how non US voters have voted for the US and non-US movies by plotting `CVotesnUS` for both the US and non-US movies. Write any of your two inferences/observations from these plots.\n",
    "\n",
    "\n",
    "3. Again do a similar analysis but with the ratings. Make a boxplot that shows how the ratings from the US people i.e. `VotesUS` is varying for the US and non-US movies. Similarly, make another subplot that shows how `VotesnUS` is varying for the US and non-US movies. Write any of your two inferences/observations from these plots.\n",
    "\n",
    "Note : Use `movies` dataframe for this subtask. Make use of this documention to format your boxplot - https://seaborn.pydata.org/generated/seaborn.boxplot.html"
   ]
  },
  {
   "cell_type": "code",
   "execution_count": 46,
   "metadata": {},
   "outputs": [],
   "source": [
    "# Creating IFUS column\n",
    "movies['IFUS']=movies['Country'].apply(lambda x:'USA' if x=='USA' else 'non-USA')"
   ]
  },
  {
   "cell_type": "code",
   "execution_count": 47,
   "metadata": {},
   "outputs": [
    {
     "data": {
      "image/png": "[encoded data removed]",
      "text/plain": [
       "<Figure size 648x432 with 2 Axes>"
      ]
     },
     "metadata": {},
     "output_type": "display_data"
    }
   ],
   "source": [
    "# Box plot - 1: CVotesUS(y) vs IFUS(x)\n",
    "fig, axs = plt.subplots(1, 2)\n",
    "movies.boxplot(by ='IFUS', column =['CVotesUS'],ax=axs[0])\n",
    "movies.boxplot(by ='IFUS', column =['CVotesnUS'],ax=axs[1])\n",
    "plt.show()"
   ]
  },
  {
   "cell_type": "markdown",
   "metadata": {},
   "source": [
    "**`Inferences:`** Write your two inferences/observations below:\n",
    "- Inference 1: Looks like non-USA movies were more critically voted by both US and non-US people\n",
    "- Inference 2: Y-axis scale shows that number of rating given by non-USA people are much higher than the USA people "
   ]
  },
  {
   "cell_type": "code",
   "execution_count": 48,
   "metadata": {},
   "outputs": [
    {
     "data": {
      "image/png": "[encoded data removed]",
      "text/plain": [
       "<Figure size 648x432 with 2 Axes>"
      ]
     },
     "metadata": {},
     "output_type": "display_data"
    }
   ],
   "source": [
    "# Box plot - 2: VotesUS(y) vs IFUS(x)\n",
    "fig, axs = plt.subplots(1, 2)\n",
    "movies.boxplot(by ='IFUS', column =['VotesUS'],ax=axs[0])\n",
    "movies.boxplot(by ='IFUS', column =['VotesnUS'],ax=axs[1])\n",
    "plt.show()"
   ]
  },
  {
   "cell_type": "markdown",
   "metadata": {},
   "source": [
    "**`Inferences:`** Write your two inferences/observations below:\n",
    "- Inference 1: USA movies were rated highly by USA people and less by non-USA people\n",
    "- Inference 2: non-USA movies were critically rated by non-USA people and a bit highly by USA people"
   ]
  },
  {
   "cell_type": "markdown",
   "metadata": {},
   "source": [
    "-  ###  Subtask 3.5:  Top 1000 Voters Vs Genres\n",
    "\n",
    "You might have also observed the column `CVotes1000`. This column represents the top 1000 voters on IMDb and gives the count for the number of these voters who have voted for a particular movie. Let's see how these top 1000 voters have voted across the genres. \n",
    "\n",
    "1. Sort the dataframe genre_top10 based on the value of `CVotes1000`in a descending order.\n",
    "\n",
    "2. Make a seaborn barplot for `genre` vs `CVotes1000`.\n",
    "\n",
    "3. Write your inferences. You can also try to relate it with the heatmaps you did in the previous subtasks.\n",
    "\n",
    "\n"
   ]
  },
  {
   "cell_type": "code",
   "execution_count": 49,
   "metadata": {},
   "outputs": [
    {
     "data": {
      "text/html": [
       "<div>\n",
       "<style scoped>\n",
       "    .dataframe tbody tr th:only-of-type {\n",
       "        vertical-align: middle;\n",
       "    }\n",
       "\n",
       "    .dataframe tbody tr th {\n",
       "        vertical-align: top;\n",
       "    }\n",
       "\n",
       "    .dataframe thead th {\n",
       "        text-align: right;\n",
       "    }\n",
       "</style>\n",
       "<table border=\"1\" class=\"dataframe\">\n",
       "  <thead>\n",
       "    <tr style=\"text-align: right;\">\n",
       "      <th></th>\n",
       "      <th>CVotes10</th>\n",
       "      <th>CVotes09</th>\n",
       "      <th>CVotes08</th>\n",
       "      <th>CVotes07</th>\n",
       "      <th>CVotes06</th>\n",
       "      <th>CVotes05</th>\n",
       "      <th>CVotes04</th>\n",
       "      <th>CVotes03</th>\n",
       "      <th>CVotes02</th>\n",
       "      <th>CVotes01</th>\n",
       "      <th>...</th>\n",
       "      <th>Votes3044</th>\n",
       "      <th>Votes3044M</th>\n",
       "      <th>Votes3044F</th>\n",
       "      <th>Votes45A</th>\n",
       "      <th>Votes45AM</th>\n",
       "      <th>Votes45AF</th>\n",
       "      <th>Votes1000</th>\n",
       "      <th>VotesUS</th>\n",
       "      <th>VotesnUS</th>\n",
       "      <th>cnt</th>\n",
       "    </tr>\n",
       "  </thead>\n",
       "  <tbody>\n",
       "    <tr>\n",
       "      <th>Sci-Fi</th>\n",
       "      <td>136781</td>\n",
       "      <td>148873</td>\n",
       "      <td>176646</td>\n",
       "      <td>106005</td>\n",
       "      <td>39518</td>\n",
       "      <td>14951</td>\n",
       "      <td>6583</td>\n",
       "      <td>3876</td>\n",
       "      <td>2715</td>\n",
       "      <td>6731</td>\n",
       "      <td>...</td>\n",
       "      <td>7.86</td>\n",
       "      <td>7.85</td>\n",
       "      <td>7.84</td>\n",
       "      <td>7.71</td>\n",
       "      <td>7.69</td>\n",
       "      <td>7.74</td>\n",
       "      <td>7.52</td>\n",
       "      <td>8.09</td>\n",
       "      <td>7.88</td>\n",
       "      <td>17.0</td>\n",
       "    </tr>\n",
       "    <tr>\n",
       "      <th>Action</th>\n",
       "      <td>102144</td>\n",
       "      <td>114433</td>\n",
       "      <td>150895</td>\n",
       "      <td>94262</td>\n",
       "      <td>34688</td>\n",
       "      <td>12693</td>\n",
       "      <td>5386</td>\n",
       "      <td>3064</td>\n",
       "      <td>2115</td>\n",
       "      <td>5524</td>\n",
       "      <td>...</td>\n",
       "      <td>7.74</td>\n",
       "      <td>7.73</td>\n",
       "      <td>7.80</td>\n",
       "      <td>7.65</td>\n",
       "      <td>7.63</td>\n",
       "      <td>7.75</td>\n",
       "      <td>7.30</td>\n",
       "      <td>7.99</td>\n",
       "      <td>7.76</td>\n",
       "      <td>31.0</td>\n",
       "    </tr>\n",
       "    <tr>\n",
       "      <th>Thriller</th>\n",
       "      <td>83207</td>\n",
       "      <td>112730</td>\n",
       "      <td>153336</td>\n",
       "      <td>90446</td>\n",
       "      <td>32003</td>\n",
       "      <td>11534</td>\n",
       "      <td>5021</td>\n",
       "      <td>2918</td>\n",
       "      <td>1982</td>\n",
       "      <td>4433</td>\n",
       "      <td>...</td>\n",
       "      <td>7.74</td>\n",
       "      <td>7.75</td>\n",
       "      <td>7.70</td>\n",
       "      <td>7.66</td>\n",
       "      <td>7.64</td>\n",
       "      <td>7.75</td>\n",
       "      <td>7.40</td>\n",
       "      <td>7.93</td>\n",
       "      <td>7.81</td>\n",
       "      <td>13.0</td>\n",
       "    </tr>\n",
       "    <tr>\n",
       "      <th>Adventure</th>\n",
       "      <td>94596</td>\n",
       "      <td>105636</td>\n",
       "      <td>138482</td>\n",
       "      <td>86367</td>\n",
       "      <td>31896</td>\n",
       "      <td>11551</td>\n",
       "      <td>4817</td>\n",
       "      <td>2718</td>\n",
       "      <td>1835</td>\n",
       "      <td>4575</td>\n",
       "      <td>...</td>\n",
       "      <td>7.75</td>\n",
       "      <td>7.73</td>\n",
       "      <td>7.87</td>\n",
       "      <td>7.68</td>\n",
       "      <td>7.64</td>\n",
       "      <td>7.84</td>\n",
       "      <td>7.38</td>\n",
       "      <td>7.99</td>\n",
       "      <td>7.79</td>\n",
       "      <td>38.0</td>\n",
       "    </tr>\n",
       "    <tr>\n",
       "      <th>Crime</th>\n",
       "      <td>52229</td>\n",
       "      <td>87919</td>\n",
       "      <td>129045</td>\n",
       "      <td>74671</td>\n",
       "      <td>25308</td>\n",
       "      <td>8971</td>\n",
       "      <td>3842</td>\n",
       "      <td>2246</td>\n",
       "      <td>1544</td>\n",
       "      <td>3383</td>\n",
       "      <td>...</td>\n",
       "      <td>7.72</td>\n",
       "      <td>7.76</td>\n",
       "      <td>7.61</td>\n",
       "      <td>7.63</td>\n",
       "      <td>7.62</td>\n",
       "      <td>7.68</td>\n",
       "      <td>7.39</td>\n",
       "      <td>7.98</td>\n",
       "      <td>7.80</td>\n",
       "      <td>11.0</td>\n",
       "    </tr>\n",
       "    <tr>\n",
       "      <th>Comedy</th>\n",
       "      <td>60157</td>\n",
       "      <td>77173</td>\n",
       "      <td>108993</td>\n",
       "      <td>69176</td>\n",
       "      <td>26099</td>\n",
       "      <td>9863</td>\n",
       "      <td>4237</td>\n",
       "      <td>2444</td>\n",
       "      <td>1712</td>\n",
       "      <td>3842</td>\n",
       "      <td>...</td>\n",
       "      <td>7.71</td>\n",
       "      <td>7.71</td>\n",
       "      <td>7.75</td>\n",
       "      <td>7.61</td>\n",
       "      <td>7.60</td>\n",
       "      <td>7.70</td>\n",
       "      <td>7.19</td>\n",
       "      <td>7.94</td>\n",
       "      <td>7.78</td>\n",
       "      <td>23.0</td>\n",
       "    </tr>\n",
       "    <tr>\n",
       "      <th>Biography</th>\n",
       "      <td>47333</td>\n",
       "      <td>77867</td>\n",
       "      <td>123948</td>\n",
       "      <td>74054</td>\n",
       "      <td>23644</td>\n",
       "      <td>7702</td>\n",
       "      <td>2984</td>\n",
       "      <td>1639</td>\n",
       "      <td>1145</td>\n",
       "      <td>2849</td>\n",
       "      <td>...</td>\n",
       "      <td>7.73</td>\n",
       "      <td>7.72</td>\n",
       "      <td>7.77</td>\n",
       "      <td>7.69</td>\n",
       "      <td>7.66</td>\n",
       "      <td>7.87</td>\n",
       "      <td>7.23</td>\n",
       "      <td>7.93</td>\n",
       "      <td>7.77</td>\n",
       "      <td>18.0</td>\n",
       "    </tr>\n",
       "    <tr>\n",
       "      <th>Drama</th>\n",
       "      <td>52375</td>\n",
       "      <td>75928</td>\n",
       "      <td>109339</td>\n",
       "      <td>66456</td>\n",
       "      <td>23528</td>\n",
       "      <td>8497</td>\n",
       "      <td>3622</td>\n",
       "      <td>2078</td>\n",
       "      <td>1449</td>\n",
       "      <td>3250</td>\n",
       "      <td>...</td>\n",
       "      <td>7.71</td>\n",
       "      <td>7.71</td>\n",
       "      <td>7.72</td>\n",
       "      <td>7.64</td>\n",
       "      <td>7.62</td>\n",
       "      <td>7.74</td>\n",
       "      <td>7.22</td>\n",
       "      <td>7.94</td>\n",
       "      <td>7.78</td>\n",
       "      <td>65.0</td>\n",
       "    </tr>\n",
       "    <tr>\n",
       "      <th>Animation</th>\n",
       "      <td>61960</td>\n",
       "      <td>72566</td>\n",
       "      <td>104837</td>\n",
       "      <td>65707</td>\n",
       "      <td>22825</td>\n",
       "      <td>7551</td>\n",
       "      <td>2792</td>\n",
       "      <td>1430</td>\n",
       "      <td>911</td>\n",
       "      <td>2290</td>\n",
       "      <td>...</td>\n",
       "      <td>7.76</td>\n",
       "      <td>7.72</td>\n",
       "      <td>7.98</td>\n",
       "      <td>7.68</td>\n",
       "      <td>7.65</td>\n",
       "      <td>7.88</td>\n",
       "      <td>7.27</td>\n",
       "      <td>7.96</td>\n",
       "      <td>7.83</td>\n",
       "      <td>11.0</td>\n",
       "    </tr>\n",
       "    <tr>\n",
       "      <th>Romance</th>\n",
       "      <td>42304</td>\n",
       "      <td>53037</td>\n",
       "      <td>82252</td>\n",
       "      <td>54833</td>\n",
       "      <td>21637</td>\n",
       "      <td>8530</td>\n",
       "      <td>3762</td>\n",
       "      <td>2130</td>\n",
       "      <td>1476</td>\n",
       "      <td>3082</td>\n",
       "      <td>...</td>\n",
       "      <td>7.61</td>\n",
       "      <td>7.61</td>\n",
       "      <td>7.66</td>\n",
       "      <td>7.52</td>\n",
       "      <td>7.50</td>\n",
       "      <td>7.61</td>\n",
       "      <td>6.92</td>\n",
       "      <td>7.83</td>\n",
       "      <td>7.70</td>\n",
       "      <td>13.0</td>\n",
       "    </tr>\n",
       "  </tbody>\n",
       "</table>\n",
       "<p>10 rows × 45 columns</p>\n",
       "</div>"
      ],
      "text/plain": [
       "           CVotes10  CVotes09  CVotes08  CVotes07  CVotes06  CVotes05  \\\n",
       "Sci-Fi       136781    148873    176646    106005     39518     14951   \n",
       "Action       102144    114433    150895     94262     34688     12693   \n",
       "Thriller      83207    112730    153336     90446     32003     11534   \n",
       "Adventure     94596    105636    138482     86367     31896     11551   \n",
       "Crime         52229     87919    129045     74671     25308      8971   \n",
       "Comedy        60157     77173    108993     69176     26099      9863   \n",
       "Biography     47333     77867    123948     74054     23644      7702   \n",
       "Drama         52375     75928    109339     66456     23528      8497   \n",
       "Animation     61960     72566    104837     65707     22825      7551   \n",
       "Romance       42304     53037     82252     54833     21637      8530   \n",
       "\n",
       "           CVotes04  CVotes03  CVotes02  CVotes01  ...  Votes3044  Votes3044M  \\\n",
       "Sci-Fi         6583      3876      2715      6731  ...       7.86        7.85   \n",
       "Action         5386      3064      2115      5524  ...       7.74        7.73   \n",
       "Thriller       5021      2918      1982      4433  ...       7.74        7.75   \n",
       "Adventure      4817      2718      1835      4575  ...       7.75        7.73   \n",
       "Crime          3842      2246      1544      3383  ...       7.72        7.76   \n",
       "Comedy         4237      2444      1712      3842  ...       7.71        7.71   \n",
       "Biography      2984      1639      1145      2849  ...       7.73        7.72   \n",
       "Drama          3622      2078      1449      3250  ...       7.71        7.71   \n",
       "Animation      2792      1430       911      2290  ...       7.76        7.72   \n",
       "Romance        3762      2130      1476      3082  ...       7.61        7.61   \n",
       "\n",
       "           Votes3044F  Votes45A  Votes45AM  Votes45AF  Votes1000  VotesUS  \\\n",
       "Sci-Fi           7.84      7.71       7.69       7.74       7.52     8.09   \n",
       "Action           7.80      7.65       7.63       7.75       7.30     7.99   \n",
       "Thriller         7.70      7.66       7.64       7.75       7.40     7.93   \n",
       "Adventure        7.87      7.68       7.64       7.84       7.38     7.99   \n",
       "Crime            7.61      7.63       7.62       7.68       7.39     7.98   \n",
       "Comedy           7.75      7.61       7.60       7.70       7.19     7.94   \n",
       "Biography        7.77      7.69       7.66       7.87       7.23     7.93   \n",
       "Drama            7.72      7.64       7.62       7.74       7.22     7.94   \n",
       "Animation        7.98      7.68       7.65       7.88       7.27     7.96   \n",
       "Romance          7.66      7.52       7.50       7.61       6.92     7.83   \n",
       "\n",
       "           VotesnUS   cnt  \n",
       "Sci-Fi         7.88  17.0  \n",
       "Action         7.76  31.0  \n",
       "Thriller       7.81  13.0  \n",
       "Adventure      7.79  38.0  \n",
       "Crime          7.80  11.0  \n",
       "Comedy         7.78  23.0  \n",
       "Biography      7.77  18.0  \n",
       "Drama          7.78  65.0  \n",
       "Animation      7.83  11.0  \n",
       "Romance        7.70  13.0  \n",
       "\n",
       "[10 rows x 45 columns]"
      ]
     },
     "execution_count": 49,
     "metadata": {},
     "output_type": "execute_result"
    }
   ],
   "source": [
    "# Sorting by CVotes1000\n",
    "genre_top10.sort_values('CVotes1000',ascending=False)"
   ]
  },
  {
   "cell_type": "code",
   "execution_count": 50,
   "metadata": {},
   "outputs": [
    {
     "data": {
      "image/png": "[encoded data removed]",
      "text/plain": [
       "<Figure size 648x432 with 1 Axes>"
      ]
     },
     "metadata": {},
     "output_type": "display_data"
    }
   ],
   "source": [
    "# Bar plot\n",
    "sns.barplot(x=genre_top10.index,y=genre_top10.CVotes1000)\n",
    "plt.show()"
   ]
  },
  {
   "cell_type": "markdown",
   "metadata": {},
   "source": [
    "**`Inferences:`** Write your inferences/observations here.\n",
    "Sci-Fi genre is most rated genre while romance is the least rated one. Action, Adventure and Thriller are also among the most rated genres."
   ]
  },
  {
   "cell_type": "markdown",
   "metadata": {},
   "source": [
    "**`Checkpoint 6:`** The genre `Romance` seems to be most unpopular among the top 1000 voters."
   ]
  },
  {
   "cell_type": "markdown",
   "metadata": {},
   "source": [
    "\n",
    "\n"
   ]
  },
  {
   "cell_type": "markdown",
   "metadata": {},
   "source": [
    "With the above subtask, your assignment is over. In your free time, do explore the dataset further on your own and see what kind of other insights you can get across various other columns."
   ]
  }
 ],
 "metadata": {
  "kernelspec": {
   "display_name": "Python 3",
   "language": "python",
   "name": "python3"
  },
  "language_info": {
   "codemirror_mode": {
    "name": "ipython",
    "version": 3
   },
   "file_extension": ".py",
   "mimetype": "text/x-python",
   "name": "python",
   "nbconvert_exporter": "python",
   "pygments_lexer": "ipython3",
   "version": "3.8.3"
  }
 },
 "nbformat": 4,
 "nbformat_minor": 2
}
